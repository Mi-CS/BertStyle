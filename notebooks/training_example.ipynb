{
 "cells": [
  {
   "cell_type": "code",
   "execution_count": null,
   "metadata": {},
   "outputs": [],
   "source": [
    "import sys\n",
    "sys.path.append(\"../src\")\n",
    "\n",
    "# Basic imports\n",
    "import pandas as pd\n",
    "import numpy as np\n",
    "\n",
    "# PyTorch imports\n",
    "import torch.nn as nn\n",
    "import torch\n",
    "from torch.utils.data import DataLoader\n",
    "from transformers import BertTokenizer\n",
    "\n",
    "# Tokenize sentences\n",
    "from nltk.tokenize import sent_tokenize\n",
    "\n",
    "# Utils\n",
    "from dataset_building import build_dataset\n",
    "from model import init_model\n",
    "from trainer import train_epoch\n",
    "\n",
    "# Progress bar\n",
    "from tqdm import tqdm\n",
    "tqdm.pandas()\n",
    "\n",
    "%load_ext autoreload\n",
    "%autoreload 2"
   ]
  },
  {
   "cell_type": "code",
   "execution_count": null,
   "metadata": {},
   "outputs": [],
   "source": [
    "# Load data. Here, as an example, we are taking\n",
    "# the small sample from the reuters dataset\n",
    "df = pd.read_json(\"../data/reuters_sample.json\")\n",
    "\n",
    "# Clean and tokenize\n",
    "df.text = df.text.progress_apply(lambda x: x.lower())\n",
    "df.text = df.text.progress_apply(sent_tokenize)\n",
    "\n",
    "# Build dataset\n",
    "dataset = build_dataset(df.text,\n",
    "                masking_percentage=0.5,\n",
    "                max_pairs_per_doc = 2)"
   ]
  },
  {
   "cell_type": "code",
   "execution_count": null,
   "metadata": {},
   "outputs": [],
   "source": [
    "# Load model\n",
    "device = torch.device(\"cuda\" if torch.cuda.is_available() else \"cpu\")\n",
    "model = init_model(device)\n",
    "\n",
    "# Load tokenizer\n",
    "tokenizer = BertTokenizer.from_pretrained(\"bert-base-uncased\")\n",
    "\n",
    "# Loss function and optimizer\n",
    "criterion = nn.CrossEntropyLoss()\n",
    "optimizer = torch.optim.AdamW(model.parameters(), lr=5e-5)"
   ]
  },
  {
   "cell_type": "code",
   "execution_count": null,
   "metadata": {},
   "outputs": [],
   "source": [
    "# Training\n",
    "epochs = 3\n",
    "\n",
    "for epoch in range(epochs):\n",
    "    print(f\"Epoch {epoch}\")\n",
    "    \n",
    "    # Construct DataLoader\n",
    "    dataloader = DataLoader(dataset[:10],\n",
    "                            batch_size = 16, \n",
    "                            shuffle = True)\n",
    "\n",
    "    # Train for 1 epoch\n",
    "    train_epoch(model = model,\n",
    "                tokenizer = tokenizer,\n",
    "                dataloader = dataloader,\n",
    "                optimizer = optimizer,\n",
    "                criterion = criterion,\n",
    "                device = device,\n",
    "                print_each = 500, \n",
    "                disable_progress_bar = False)\n",
    "\n",
    "    # Save model weights after epoch\n",
    "    save_path = f\"saved_models/model_{epoch}epoch.pt\"\n",
    "    torch.save(model.state_dict(), save_path)\n",
    "    print(\"Model saved.\\n\\n\")\n",
    "    "
   ]
  }
 ],
 "metadata": {
  "kernelspec": {
   "display_name": "Python 3.10.4 ('torch_env')",
   "language": "python",
   "name": "python3"
  },
  "language_info": {
   "codemirror_mode": {
    "name": "ipython",
    "version": 3
   },
   "file_extension": ".py",
   "mimetype": "text/x-python",
   "name": "python",
   "nbconvert_exporter": "python",
   "pygments_lexer": "ipython3",
   "version": "3.10.4"
  },
  "orig_nbformat": 4,
  "vscode": {
   "interpreter": {
    "hash": "acd62c5062357039a923d5a2091962054c169ae848350ae1587a2a7c600dc804"
   }
  }
 },
 "nbformat": 4,
 "nbformat_minor": 2
}
